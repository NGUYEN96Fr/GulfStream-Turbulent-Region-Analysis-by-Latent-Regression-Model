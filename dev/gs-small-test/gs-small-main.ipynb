{
 "cells": [
  {
   "cell_type": "code",
   "execution_count": 1,
   "metadata": {},
   "outputs": [
    {
     "name": "stdout",
     "output_type": "stream",
     "text": [
      "E:\\IMT\\3A\\projet_s5\\Temperature-Salinity-Predictions-in-3D-Ocean\\dev\n"
     ]
    }
   ],
   "source": [
    "cd .."
   ]
  },
  {
   "cell_type": "code",
   "execution_count": 2,
   "metadata": {
    "colab": {},
    "colab_type": "code",
    "id": "W8hEFSdHWjc2"
   },
   "outputs": [],
   "source": [
    "import libs as lb\n",
    "import pickle as pk\n",
    "import pandas as pd\n",
    "import numpy as np\n",
    "from numpy import *\n",
    "import time\n",
    "import matplotlib.pyplot as plt\n",
    "from tqdm import *\n",
    "from pylab import *\n",
    "from multiprocessing import Pool\n",
    "import pickle\n",
    "import scipy.stats\n",
    "from scipy.linalg import qr, solve, lstsq\n",
    "from sklearn.cluster import KMeans\n",
    "# from mpl_toolkits.basemap import Basemap\n",
    "from matplotlib.pyplot import figure\n",
    "import warnings\n",
    "warnings.filterwarnings('ignore')\n",
    "from mpl_toolkits.axes_grid1 import make_axes_locatable\n",
    "import os\n",
    "import jupyter"
   ]
  },
  {
   "cell_type": "markdown",
   "metadata": {},
   "source": [
    "## I. Data preparation"
   ]
  },
  {
   "cell_type": "code",
   "execution_count": 3,
   "metadata": {},
   "outputs": [],
   "source": [
    "# Extract the Gulf Stream region\n",
    "Extract_ex = True\n",
    "if Extract_ex:\n",
    "    gs = lb.region_ex(\"GulfStream\")"
   ]
  },
  {
   "cell_type": "code",
   "execution_count": 4,
   "metadata": {},
   "outputs": [],
   "source": [
    "# Load training data\n",
    "X = pd.read_pickle(\"x_train_s.pkl\")\n",
    "y = pd.read_pickle(\"y_train_s.pkl\")\n",
    "features = pd.read_pickle(\"feature_train_s.pkl\")"
   ]
  }
 ],
 "metadata": {
  "accelerator": "GPU",
  "colab": {
   "collapsed_sections": [],
   "name": "main.ipynb",
   "provenance": []
  },
  "kernelspec": {
   "display_name": "Python 3",
   "language": "python",
   "name": "python3"
  },
  "language_info": {
   "codemirror_mode": {
    "name": "ipython",
    "version": 3
   },
   "file_extension": ".py",
   "mimetype": "text/x-python",
   "name": "python",
   "nbconvert_exporter": "python",
   "pygments_lexer": "ipython3",
   "version": "3.7.1"
  }
 },
 "nbformat": 4,
 "nbformat_minor": 1
}
